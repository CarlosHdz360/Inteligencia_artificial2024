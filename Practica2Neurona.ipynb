{
  "nbformat": 4,
  "nbformat_minor": 0,
  "metadata": {
    "colab": {
      "provenance": [],
      "authorship_tag": "ABX9TyOsB9Rw0X3Kad7dJ5Lrb1VO",
      "include_colab_link": true
    },
    "kernelspec": {
      "name": "python3",
      "display_name": "Python 3"
    },
    "language_info": {
      "name": "python"
    }
  },
  "cells": [
    {
      "cell_type": "markdown",
      "metadata": {
        "id": "view-in-github",
        "colab_type": "text"
      },
      "source": [
        "<a href=\"https://colab.research.google.com/github/CarlosHdz360/Inteligencia_artificial2024/blob/main/Practica2Neurona.ipynb\" target=\"_parent\"><img src=\"https://colab.research.google.com/assets/colab-badge.svg\" alt=\"Open In Colab\"/></a>"
      ]
    },
    {
      "cell_type": "markdown",
      "source": [
        "# Neurona aprendizaje compuerta AND\n",
        "\n",
        "---\n",
        "00->0\n",
        "\n",
        "01->0\n",
        "\n",
        "10->0\n",
        "\n",
        "11->1"
      ],
      "metadata": {
        "id": "4uWDYiBrnZxe"
      }
    },
    {
      "cell_type": "code",
      "execution_count": null,
      "metadata": {
        "colab": {
          "base_uri": "https://localhost:8080/"
        },
        "id": "rZtKyEV3nGOn",
        "outputId": "10db482e-e4b3-4cb6-bb89-4238573dd25c"
      },
      "outputs": [
        {
          "output_type": "stream",
          "name": "stdout",
          "text": [
            "3\n",
            "1 AND 1 = 1\n"
          ]
        }
      ],
      "source": [
        "# w = [1,1]\n",
        "# w = [0.5,1.5]\n",
        "# w = [2,1]\n",
        "\n",
        "x=[1,1]\n",
        "w=[2,1]\n",
        "s=0\n",
        "y=0\n",
        "for i in range(0,2):\n",
        "  s=s+x[i]*w[i]     # Suma ponderada mayor o igual a 2 cuando x[1,1]\n",
        "print(s)\n",
        "\n",
        "y=1 if s>= 2 else 0     #si es mayor o igual a 2 la salida es 1, sino la salida es 0.\n",
        "print(x[0],'AND',x[1],'=',y)"
      ]
    },
    {
      "cell_type": "markdown",
      "source": [
        "Tarea buscar el peso \"W\"correcto que nos de los resultados correctos en las combinaciones de datos de entrada \"x\" de la compuerta and \"S\""
      ],
      "metadata": {
        "id": "I-qKJBhFrHoQ"
      }
    }
  ]
}