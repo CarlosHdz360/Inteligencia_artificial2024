{
  "nbformat": 4,
  "nbformat_minor": 0,
  "metadata": {
    "colab": {
      "provenance": [],
      "authorship_tag": "ABX9TyMnU6cC7/BhDX4yKIN4+uuz",
      "include_colab_link": true
    },
    "kernelspec": {
      "name": "python3",
      "display_name": "Python 3"
    },
    "language_info": {
      "name": "python"
    }
  },
  "cells": [
    {
      "cell_type": "markdown",
      "metadata": {
        "id": "view-in-github",
        "colab_type": "text"
      },
      "source": [
        "<a href=\"https://colab.research.google.com/github/CarlosHdz360/Inteligencia_artificial2024/blob/main/EvaluacionU1.ipynb\" target=\"_parent\"><img src=\"https://colab.research.google.com/assets/colab-badge.svg\" alt=\"Open In Colab\"/></a>"
      ]
    },
    {
      "cell_type": "markdown",
      "source": [
        "Crear un notebook en colab a partir del programa base de la compuerta AND\n",
        "Modificar para que funcione con las dos compuertas AND y OR\n",
        "Criterios de aceptación: El programa va a solicitar los valores del datashet para X0 y X1, por lo cual\n",
        "la impresión de resultados debe mostrar la compuerta AND y la compuerta OR (Y).\n",
        "Menu interactivo donde pregunte si quiero introducir otro datashet"
      ],
      "metadata": {
        "id": "6E8fRb2KZ8yf"
      }
    },
    {
      "cell_type": "markdown",
      "source": [
        "Neurona aprendizaje compuerta AND\n",
        "\n",
        "00->0\n",
        "\n",
        "01->0\n",
        "\n",
        "10->0\n",
        "\n",
        "11->1\n",
        "\n",
        "Neurona aprendizaje compuerta OR\n",
        "\n",
        "00->0\n",
        "\n",
        "01->1\n",
        "\n",
        "10->1\n",
        "\n",
        "11->1\n"
      ],
      "metadata": {
        "id": "JrTKBijpaLre"
      }
    },
    {
      "cell_type": "code",
      "source": [
        "# Menú\n",
        "print(\"----------------------Menú----------------------\")\n",
        "print(\"Presiona 'x' para salir o cualquier tecla para continuar\") # Instrucciones del programa\n",
        "print(\"------------------------------------------------\")\n",
        "# Ciclo del menú\n",
        "while True:\n",
        "    x = [0,0]\n",
        "    while True: # en caso de que se ingrese en X u valor diferente a 0 o 1 se genera un bucle\n",
        "      x[0] = int(input(f\"Ingresa el primer número x[0]: \"))\n",
        "      x[1] = int(input(f\"Ingresa el segundo número x[1]: \"))\n",
        "      if (x[0] not in [0, 1]) or (x[1] not in [0, 1]): # validación\n",
        "          print(\"Error en alguno de los datos de entrada. Solo se permite 0 o 1.\")\n",
        "      else:\n",
        "        break  # Caso falso continua el programa\n",
        "\n",
        "  #Compuerta AND\n",
        "    print(\"------------------------------------------------\")\n",
        "    print(\"Resultados compuerta AND\")\n",
        "    w=[1,1]\n",
        "    s=0\n",
        "    y=0\n",
        "    for i in range(0,2):\n",
        "      s=s+x[i]*w[i]     # Suma mayor o igual a 2 cuando x[1,1]\n",
        "    print(s)\n",
        "    y=1 if s>= 2 else 0     #El patrón que sigue es que si es mayor o igual a 2 la salida es 1, sino la salida es 0.\n",
        "    print(x[0],'AND',x[1],'=',y)\n",
        "#Compuerta OR\n",
        "    print(\"Resultados compuerta OR\")\n",
        "    #Los valores para 'w', 's' y 'y' se mantienen igual ya que se tratan de constantes\n",
        "    for i in range(0,2):\n",
        "      s=s+x[i]*w[i] # El patrón o regla encontrado es que si 's' da como resultado 0 está será la salida de 'y' en los demás casos será 1\n",
        "    print(s)\n",
        "    y=0 if s<= 0 else 1\n",
        "    print(x[0],'OR',x[1],'=',y)\n",
        "    print(\"------------------------------------------------\")\n",
        "    user_input = str(input(\"***¿Desea salir del programa?***: \"))\n",
        "    if user_input == 'x':  # El ciclo del menú termina\n",
        "        print(\"Ha cerrado el programa...\")\n",
        "        break\n",
        "\n"
      ],
      "metadata": {
        "colab": {
          "base_uri": "https://localhost:8080/"
        },
        "id": "EY67pFrCjUQz",
        "outputId": "a97da342-17c1-45d8-b5cd-283376b39df5"
      },
      "execution_count": 72,
      "outputs": [
        {
          "output_type": "stream",
          "name": "stdout",
          "text": [
            "----------------------Menú----------------------\n",
            "Presiona 'x' para salir o cualquier tecla para continuar\n",
            "------------------------------------------------\n",
            "Ingresa el primer número x[0]: 1\n",
            "Ingresa el segundo número x[1]: 2\n",
            "Error en alguno de los datos de entrada. Solo se permite 0 o 1.\n",
            "Ingresa el primer número x[0]: 0\n",
            "Ingresa el segundo número x[1]: 0\n",
            "------------------------------------------------\n",
            "Resultados compuerta AND\n",
            "0\n",
            "0 AND 0 = 0\n",
            "Resultados compuerta OR\n",
            "0\n",
            "0 OR 0 = 0\n",
            "------------------------------------------------\n",
            "***¿Desea salir del programa?***: c\n",
            "Ingresa el primer número x[0]: 0\n",
            "Ingresa el segundo número x[1]: 1\n",
            "------------------------------------------------\n",
            "Resultados compuerta AND\n",
            "1\n",
            "0 AND 1 = 0\n",
            "Resultados compuerta OR\n",
            "2\n",
            "0 OR 1 = 1\n",
            "------------------------------------------------\n",
            "***¿Desea salir del programa?***: c\n",
            "Ingresa el primer número x[0]: 1\n",
            "Ingresa el segundo número x[1]: 0\n",
            "------------------------------------------------\n",
            "Resultados compuerta AND\n",
            "1\n",
            "1 AND 0 = 0\n",
            "Resultados compuerta OR\n",
            "2\n",
            "1 OR 0 = 1\n",
            "------------------------------------------------\n",
            "***¿Desea salir del programa?***: c\n",
            "Ingresa el primer número x[0]: 1\n",
            "Ingresa el segundo número x[1]: 1\n",
            "------------------------------------------------\n",
            "Resultados compuerta AND\n",
            "2\n",
            "1 AND 1 = 1\n",
            "Resultados compuerta OR\n",
            "4\n",
            "1 OR 1 = 1\n",
            "------------------------------------------------\n",
            "***¿Desea salir del programa?***: x\n",
            "Ha cerrado el programa...\n"
          ]
        }
      ]
    }
  ]
}