{
  "nbformat": 4,
  "nbformat_minor": 0,
  "metadata": {
    "colab": {
      "provenance": [],
      "toc_visible": true,
      "authorship_tag": "ABX9TyOsVF2yOoBuXUgU4pjkfA3a",
      "include_colab_link": true
    },
    "kernelspec": {
      "name": "python3",
      "display_name": "Python 3"
    },
    "language_info": {
      "name": "python"
    }
  },
  "cells": [
    {
      "cell_type": "markdown",
      "metadata": {
        "id": "view-in-github",
        "colab_type": "text"
      },
      "source": [
        "<a href=\"https://colab.research.google.com/github/CarlosHdz360/Inteligencia_artificial2024/blob/main/EVALUACI%C3%93NDIAGN%C3%93STICA.ipynb\" target=\"_parent\"><img src=\"https://colab.research.google.com/assets/colab-badge.svg\" alt=\"Open In Colab\"/></a>"
      ]
    },
    {
      "cell_type": "markdown",
      "source": [
        "# Evaluación diagnóstica"
      ],
      "metadata": {
        "id": "9_IzhhpQhA0G"
      }
    },
    {
      "cell_type": "markdown",
      "source": [
        "¿Cómo se declara una lista en python?"
      ],
      "metadata": {
        "id": "7dH3oexQW8d4"
      }
    },
    {
      "cell_type": "code",
      "source": [
        "my_list=[1,2,3]\n",
        "print(my_list)"
      ],
      "metadata": {
        "colab": {
          "base_uri": "https://localhost:8080/"
        },
        "id": "y56WlKW3Xt2A",
        "outputId": "2843d71a-f97d-43a7-b2c9-c91cd8cede3c"
      },
      "execution_count": null,
      "outputs": [
        {
          "output_type": "stream",
          "name": "stdout",
          "text": [
            "[1, 2, 3]\n"
          ]
        }
      ]
    },
    {
      "cell_type": "markdown",
      "source": [
        "¿Qué función se usa para conocer el número de elementos en una lista?"
      ],
      "metadata": {
        "id": "NTxIjHdwX2pG"
      }
    },
    {
      "cell_type": "code",
      "source": [
        "print(len(my_list))"
      ],
      "metadata": {
        "colab": {
          "base_uri": "https://localhost:8080/"
        },
        "id": "Y-cC5UVyYK4Y",
        "outputId": "b57b69df-b836-4173-85d7-bc7597f501f5"
      },
      "execution_count": null,
      "outputs": [
        {
          "output_type": "stream",
          "name": "stdout",
          "text": [
            "3\n"
          ]
        }
      ]
    },
    {
      "cell_type": "markdown",
      "source": [
        "¿Qué resultado obtendremos al ejecutar el siguiente código?"
      ],
      "metadata": {
        "id": "519SYR2oYWbs"
      }
    },
    {
      "cell_type": "code",
      "source": [
        "a=[1,2,3,4,5]\n",
        "print(a[::-1])"
      ],
      "metadata": {
        "colab": {
          "base_uri": "https://localhost:8080/"
        },
        "id": "1SL1GMBwYkfO",
        "outputId": "2aaa673a-942e-40a0-d711-5a2f4daffa33"
      },
      "execution_count": null,
      "outputs": [
        {
          "output_type": "stream",
          "name": "stdout",
          "text": [
            "[5, 4, 3, 2, 1]\n"
          ]
        }
      ]
    },
    {
      "cell_type": "markdown",
      "source": [
        "¿Cuál es el resultado de la siguiente expresión?"
      ],
      "metadata": {
        "id": "MdjyPJScY2Fx"
      }
    },
    {
      "cell_type": "code",
      "source": [
        "print(3*\"5\"+2)"
      ],
      "metadata": {
        "colab": {
          "base_uri": "https://localhost:8080/",
          "height": 141
        },
        "id": "L-mpdOpOY9kg",
        "outputId": "0a6e4cc6-e36e-41c7-da53-67c74630ac14"
      },
      "execution_count": null,
      "outputs": [
        {
          "output_type": "error",
          "ename": "TypeError",
          "evalue": "can only concatenate str (not \"int\") to str",
          "traceback": [
            "\u001b[0;31m---------------------------------------------------------------------------\u001b[0m",
            "\u001b[0;31mTypeError\u001b[0m                                 Traceback (most recent call last)",
            "\u001b[0;32m<ipython-input-10-ecf93d8422a1>\u001b[0m in \u001b[0;36m<cell line: 1>\u001b[0;34m()\u001b[0m\n\u001b[0;32m----> 1\u001b[0;31m \u001b[0mprint\u001b[0m\u001b[0;34m(\u001b[0m\u001b[0;36m3\u001b[0m\u001b[0;34m*\u001b[0m\u001b[0;34m\"5\"\u001b[0m\u001b[0;34m+\u001b[0m\u001b[0;36m2\u001b[0m\u001b[0;34m)\u001b[0m\u001b[0;34m\u001b[0m\u001b[0;34m\u001b[0m\u001b[0m\n\u001b[0m",
            "\u001b[0;31mTypeError\u001b[0m: can only concatenate str (not \"int\") to str"
          ]
        }
      ]
    },
    {
      "cell_type": "markdown",
      "source": [
        "¿Qué salida generará el siguiente código?"
      ],
      "metadata": {
        "id": "PKCC_Jo_ZHHU"
      }
    },
    {
      "cell_type": "code",
      "source": [
        "def foo(x, y=[]):\n",
        " y.append(x)\n",
        " return y\n",
        "print(foo(1))\n",
        "print(foo(2,[]))\n",
        "print(foo(3))"
      ],
      "metadata": {
        "colab": {
          "base_uri": "https://localhost:8080/"
        },
        "id": "68KrkJK3ZNUw",
        "outputId": "51d0f992-5241-4ea8-cb0b-dec07d03b5fc"
      },
      "execution_count": null,
      "outputs": [
        {
          "output_type": "stream",
          "name": "stdout",
          "text": [
            "[1]\n",
            "[2]\n",
            "[1, 3]\n"
          ]
        }
      ]
    },
    {
      "cell_type": "code",
      "source": [],
      "metadata": {
        "id": "yXiImgjWYfZZ"
      },
      "execution_count": null,
      "outputs": []
    },
    {
      "cell_type": "markdown",
      "source": [
        "¿Qué resultado obtendremos al ejecutar el siguiente código?"
      ],
      "metadata": {
        "id": "IhrXNyJrZ9pG"
      }
    },
    {
      "cell_type": "code",
      "source": [
        "def multiply_list(numbers, factor):\n",
        " result=[]\n",
        " for number in numbers:\n",
        "  result.append(number*factor)\n",
        " return result\n",
        "my_list=[1,2,3]\n",
        "output=multiply_list(my_list, 2)\n",
        "print(output)"
      ],
      "metadata": {
        "colab": {
          "base_uri": "https://localhost:8080/"
        },
        "id": "aXMhtHgCaFdw",
        "outputId": "aae13895-addb-452b-d70f-491a6f3e19c0"
      },
      "execution_count": null,
      "outputs": [
        {
          "output_type": "stream",
          "name": "stdout",
          "text": [
            "[2, 4, 6]\n"
          ]
        }
      ]
    },
    {
      "cell_type": "markdown",
      "source": [
        "# Práctica de Python"
      ],
      "metadata": {
        "id": "nMAXidpEhU14"
      }
    },
    {
      "cell_type": "markdown",
      "source": [
        "Clasificación de una lista con números pares e impares"
      ],
      "metadata": {
        "id": "8ybqN38Bhmpm"
      }
    },
    {
      "cell_type": "code",
      "source": [
        "# Declaración de variables\n",
        "numeros = [10,25,36,98,77,34,89,58]\n",
        "\n",
        "# print(type(numeros[0])) Esta función hace para saber de que tipo de dato se trata\n",
        "pares = []\n",
        "impares = []"
      ],
      "metadata": {
        "id": "RL7eUPTEhtfa"
      },
      "execution_count": null,
      "outputs": []
    },
    {
      "cell_type": "code",
      "source": [
        "# Ciclo for para recorrer la lista\n",
        "for numero in numeros:\n",
        "  if numero % 2 == 0:\n",
        "    # pares[0] = numeros[0]; Es lo que comunmente se realiza en  java, C, o C#, \"0 es el valor de 'i'\"\n",
        "    pares.append(numero)\n",
        "  else:\n",
        "    impares.append(numero)\n"
      ],
      "metadata": {
        "id": "-dSpBNFyjE3H"
      },
      "execution_count": null,
      "outputs": []
    },
    {
      "cell_type": "code",
      "source": [
        "# Impresión de resultados\n",
        "print(\"Pares: \",pares, \"total: \", len(pares))\n",
        "print(\"Impares: \",impares, \"total: \", len(impares))"
      ],
      "metadata": {
        "colab": {
          "base_uri": "https://localhost:8080/"
        },
        "id": "tqzZsjjhkLGT",
        "outputId": "bee1e382-5857-4043-855f-0c694f169af5"
      },
      "execution_count": null,
      "outputs": [
        {
          "output_type": "stream",
          "name": "stdout",
          "text": [
            "Pares:  [10, 36, 98, 34, 58] total:  5\n",
            "Impares:  [25, 77, 89] total:  3\n"
          ]
        }
      ]
    },
    {
      "cell_type": "code",
      "source": [
        "# Función suma de los números pares\n",
        "def sumaLista(lista):\n",
        "  suma = 0\n",
        "  for numero in lista:\n",
        "    suma += numero\n",
        "  return suma"
      ],
      "metadata": {
        "id": "v8W4heOumaMI"
      },
      "execution_count": null,
      "outputs": []
    },
    {
      "cell_type": "code",
      "source": [
        "# Impresión de la suma\n",
        "print(\"suma de pares\", sumaLista(pares))\n",
        "print(\"suma de impares\", sumaLista(impares))"
      ],
      "metadata": {
        "colab": {
          "base_uri": "https://localhost:8080/"
        },
        "id": "dUDERIDKnhT_",
        "outputId": "88cf337b-e8c7-4d13-9e59-9e3e3580c90b"
      },
      "execution_count": null,
      "outputs": [
        {
          "output_type": "stream",
          "name": "stdout",
          "text": [
            "suma de pares 236\n",
            "suma de impares 191\n"
          ]
        }
      ]
    },
    {
      "cell_type": "markdown",
      "source": [
        "#Practica 2 - Ejercicios en python"
      ],
      "metadata": {
        "id": "euxqjsgkh0aO"
      }
    },
    {
      "cell_type": "markdown",
      "source": [
        "Un taller automotriz necesita llevar un control de su inventario de repuestos. Crea un programa que permita agregar, eliminar y consultar la cantidad de repuestos disponibles, así como realizar una compra cuando el inventario de un repuesto está bajo."
      ],
      "metadata": {
        "id": "_i2lPCpliB5w"
      }
    },
    {
      "cell_type": "code",
      "source": [
        "# Para esto se necesitará un menú el cual pueda realizar las acciones de 1 agregar, 2 eliminar, 3 consultar y 4 salir\n",
        "# existirá una condicional que avisará que es necesario realizar una compra cuando en este caso los elementos de la lista sean <= 1\n",
        "# Lista vacía para el inventario\n",
        "li_inventario = []\n",
        "\n",
        "# Menú\n",
        "print(f\"----Menú Inventario de Repuestos----\")\n",
        "print(f\"Presiona 1 para agregar, 2 para eliminar, 3 para realizar alguna consulta y 4 para salir\")\n",
        "\n",
        "def switch_accion(option):\n",
        "    resultado = \"\"  # variable para almacenar el resultado\n",
        "    if option == 1:\n",
        "        cantidad_elementos = int(input(\"Ingrese la cantidad de elementos que desea añadir: \"))\n",
        "        for i in range(cantidad_elementos):\n",
        "            elemento = input(f\"Ingrese el nombre del elemento {i+1}: \")\n",
        "            li_inventario.append(elemento)\n",
        "        return f\"{cantidad_elementos} elementos añadidos correctamente. Inventario actual: {li_inventario}\"\n",
        "\n",
        "    elif option == 2:\n",
        "        if li_inventario:\n",
        "            elemento_a_eliminar = input(\"Ingrese el nombre del elemento que desea eliminar: \")\n",
        "            if elemento_a_eliminar in li_inventario:\n",
        "                li_inventario.remove(elemento_a_eliminar)\n",
        "                resultado = f\"Elemento '{elemento_a_eliminar}' eliminado correctamente. Inventario actual: {li_inventario}\"\n",
        "\n",
        "            else:\n",
        "                return f\"El elemento '{elemento_a_eliminar}' no se encuentra en el inventario.\"\n",
        "        else:\n",
        "            return \"Inventario vacío, sin elementos para eliminar.\"\n",
        "\n",
        "    elif option == 3:\n",
        "        return f\"Inventario actual: {li_inventario}\"\n",
        "\n",
        "    else:\n",
        "        return \"Opción no válida\"\n",
        "              # Alerta si el inventario tiene 1 o menos elementos\n",
        "    if len(li_inventario) <= 1:\n",
        "        resultado += \"\\nAlerta: Es necesario agregar o comprar más repuestos, el inventario está muy bajo.\"\n",
        "    return resultado\n",
        "# Ciclo del menú\n",
        "while True:\n",
        "    print(\"1. Añadir elementos\")\n",
        "    print(\"2. Eliminar elementos\")\n",
        "    print(\"3. Ver inventario\")\n",
        "    print(\"4. Salir\")\n",
        "    user_input = int(input(\"Selecciona una opción: \"))\n",
        "\n",
        "    if user_input == 4:  #  el ciclo termina\n",
        "        print(\"Ha cerrado el programa.\")\n",
        "        break\n",
        "    print(switch_accion(user_input))\n",
        "\n"
      ],
      "metadata": {
        "colab": {
          "base_uri": "https://localhost:8080/"
        },
        "id": "f-JMd-9CDELC",
        "outputId": "cc5c7765-3089-4578-b008-ae6203b3633b"
      },
      "execution_count": 19,
      "outputs": [
        {
          "output_type": "stream",
          "name": "stdout",
          "text": [
            "----Menú Inventario de Repuestos----\n",
            "Presiona 1 para agregar, 2 para eliminar, 3 para realizar alguna consulta y 4 para salir\n",
            "1. Añadir elementos\n",
            "2. Eliminar elementos\n",
            "3. Ver inventario\n",
            "4. Salir\n",
            "Selecciona una opción: 1\n",
            "Ingrese la cantidad de elementos que desea añadir: 3\n",
            "Ingrese el nombre del elemento 1: x1\n",
            "Ingrese el nombre del elemento 2: x2\n",
            "Ingrese el nombre del elemento 3: x3\n",
            "3 elementos añadidos correctamente. Inventario actual: ['x1', 'x2', 'x3']\n",
            "1. Añadir elementos\n",
            "2. Eliminar elementos\n",
            "3. Ver inventario\n",
            "4. Salir\n",
            "Selecciona una opción: 2\n",
            "Ingrese el nombre del elemento que desea eliminar: x1\n",
            "Elemento 'x1' eliminado correctamente. Inventario actual: ['x2', 'x3']\n",
            "1. Añadir elementos\n",
            "2. Eliminar elementos\n",
            "3. Ver inventario\n",
            "4. Salir\n",
            "Selecciona una opción: 2\n",
            "Ingrese el nombre del elemento que desea eliminar: x2\n",
            "Elemento 'x2' eliminado correctamente. Inventario actual: ['x3']\n",
            "Alerta: Es necesario agregar o comprar más repuestos, el inventario está muy bajo.\n",
            "1. Añadir elementos\n",
            "2. Eliminar elementos\n",
            "3. Ver inventario\n",
            "4. Salir\n",
            "Selecciona una opción: 3\n",
            "Inventario actual: ['x3']\n",
            "1. Añadir elementos\n",
            "2. Eliminar elementos\n",
            "3. Ver inventario\n",
            "4. Salir\n",
            "Selecciona una opción: 4\n",
            "Ha cerrado el programa.\n"
          ]
        }
      ]
    },
    {
      "cell_type": "markdown",
      "source": [
        "Una empresa de servicios a terceros ofrece proyectos de consultoría y debe llevar el control de horas trabajadas por sus empleados en diferentes proyectos. Crea un programa que calcule las horas totales trabajadas por cada empleado en varios proyectos y su costo total en función de la tarifa por hora."
      ],
      "metadata": {
        "id": "TW47GyUSi1yI"
      }
    },
    {
      "cell_type": "code",
      "source": [
        "#La lógica sería la siguiente, en primer lugar necesitaría un arreglo en el cual se guarde información como\n",
        "#\"id\" (para distinguir a un empleado) además del atributo \"nombre del empleado\" y la tarifa que se paga por hora\n",
        "#crear otro arreglo para ir agregando el número de horas trabajadas en cada proyecto\n",
        "personal = {\n",
        "    'id1': {'empleado': 'Carlos Alberto Hernández', 'thora': 40},\n",
        "    'id2': {'empleado': 'Carlos Alberto Herrera', 'thora': 45},\n",
        "    'id3': {'empleado': 'Omar Santiago Martinez', 'thora': 32},\n",
        "}\n",
        "\n",
        "proyectos = {\n",
        "    'p1': {'id1': 3, 'id2': 5, 'id3': 5},\n",
        "    'p2': {'id1': 4, 'id2': 8, 'id3': 5},\n",
        "}\n",
        "\n",
        "def calcular_totalh(personal_id): # Metodo para calcular cuantas horas trabajó cada empleado\n",
        "    total_horas = 0 # Inicialización del acumulador\n",
        "    for proyecto in proyectos.values(): # Ciclo para ir sumando las horas\n",
        "        if empleado_id in proyecto:\n",
        "            total_horas += proyecto[empleado_id]\n",
        "    return total_horas\n",
        "\n",
        "def calcular_totalTarifa(personal_id): # Metodo para realizar la operación del calculo\n",
        "    horas_trabajadas = calcular_totalh(empleado_id)\n",
        "    tarifa = personal[empleado_id]['thora']\n",
        "    return horas_trabajadas * tarifa\n",
        "\n",
        "for empleado_id, datos in personal.items(): # Ciclo para que muestre los resultados de horas totales trabajadas y el pago\n",
        "    nombre = datos['empleado']\n",
        "    total_horas = calcular_totalh(empleado_id)\n",
        "    total_pago = calcular_totalTarifa(empleado_id)\n",
        "    print(f\"{nombre} trabajó {total_horas} horas. El pago es de {total_pago} pesos.\")"
      ],
      "metadata": {
        "id": "9TVsdpTkkp_i",
        "colab": {
          "base_uri": "https://localhost:8080/"
        },
        "outputId": "6e4f4813-b0e8-45e2-cc4d-363d01048248"
      },
      "execution_count": null,
      "outputs": [
        {
          "output_type": "stream",
          "name": "stdout",
          "text": [
            "Carlos Alberto Hernández trabajó 7 horas. El pago es de 280 pesos.\n",
            "Carlos Alberto Herrera trabajó 13 horas. El pago es de 585 pesos.\n",
            "Omar Santiago Martinez trabajó 10 horas. El pago es de 320 pesos.\n"
          ]
        }
      ]
    }
  ]
}